{
  "nbformat": 4,
  "nbformat_minor": 0,
  "metadata": {
    "colab": {
      "provenance": [],
      "authorship_tag": "ABX9TyOQ3aQiW+1GzvLHTlqkx6WN",
      "include_colab_link": true
    },
    "kernelspec": {
      "name": "python3",
      "display_name": "Python 3"
    },
    "language_info": {
      "name": "python"
    }
  },
  "cells": [
    {
      "cell_type": "markdown",
      "metadata": {
        "id": "view-in-github",
        "colab_type": "text"
      },
      "source": [
        "<a href=\"https://colab.research.google.com/github/WagnerPrata/A-oesInstagram/blob/main/INSTAGRAM.ipynb\" target=\"_parent\"><img src=\"https://colab.research.google.com/assets/colab-badge.svg\" alt=\"Open In Colab\"/></a>"
      ]
    },
    {
      "cell_type": "code",
      "execution_count": null,
      "metadata": {
        "id": "woUrZSlcJFH6"
      },
      "outputs": [],
      "source": [
        "// Seguir automaticamente\n",
        "let contador = 0;\n",
        "\n",
        "document.querySelectorAll('.sqdOP.L3NKy.y3zKF').forEach((item, index) => {\n",
        "  setTimeout(() => {\n",
        "\t\tif(!item.classList.contains('._8A5w5')){\n",
        "        \titem.click();\n",
        "        \tcontador++;\n",
        "\t\t\tconsole.log(`Seu BOT já seguiu ${contador} pessoa(s)!`);\n",
        "\t\t} else { \n",
        "\t\t\tconsole.log('Você já segue essa pessoa.');\n",
        "    }\n",
        "  }, index * 20000);\n",
        "});\n",
        "\n",
        "\n"
      ]
    },
    {
      "cell_type": "code",
      "source": [
        "// Curtir automaticamente\n",
        "const next = document.querySelector('a.coreSpriteRightPaginationArrow');\n",
        "var counter = 0;\n",
        "\n",
        "function doLike() {\n",
        "  const like_btn = document.querySelector('article > div.eo2As > section.ltpMr.Slqrh > span.fr66n > button');\n",
        "  if(like_btn){\n",
        "      console.log('click\\n');\n",
        "      like_btn.click();\n",
        "      counter++;\n",
        "  }\n",
        "  next.click();\n",
        "  console.log(`Você já curtiu ${counter} post(s)!`);\n",
        "}\n",
        "\n",
        "(function loop() {\n",
        "    setTimeout(() => {\n",
        "      doLike();\n",
        "      loop();  \n",
        "    }, 10000); // 10 segundos\n",
        "}());"
      ],
      "metadata": {
        "id": "Fzer5h-2JO4k"
      },
      "execution_count": null,
      "outputs": []
    }
  ]
}